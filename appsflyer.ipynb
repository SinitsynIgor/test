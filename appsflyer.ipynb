{
 "cells": [
  {
   "cell_type": "code",
   "execution_count": 12,
   "metadata": {},
   "outputs": [
    {
     "name": "stdout",
     "output_type": "stream",
     "text": [
      "There is a problem with the request URL. Make sure that it is correct\n"
     ]
    }
   ],
   "source": [
    "import requests\n",
    "\n",
    "app_id = '1479411134'\n",
    "report_type = 'installs_report'\n",
    "\n",
    "params = {\n",
    "  'api_token': '3cb96b20-f3fb-4b6c-9477-48384cb61a91',\n",
    "  'from': '2020-01-20',\n",
    "  'to': '2020-03-10'\n",
    "}\n",
    "\n",
    "request_url = 'https://hq.appsflyer.com/export/{}/{}/v5'.format(app_id, report_type)\n",
    "\n",
    "res = requests.request('GET', request_url, params=params)\n",
    "\n",
    "if res.status_code != 200:\n",
    "  if res.status_code == 404:\n",
    "    print('There is a problem with the request URL. Make sure that it is correct')\n",
    "  else:\n",
    "    print('There was a problem retrieving data: ', res.text)\n",
    "else:\n",
    "  f = open('{}-{}-{}-to-{}.csv'.format(app_id, report_type, params['from'], params['to']), 'w', newline='', encoding=\"utf-8\")\n",
    "  f.write(res.text)\n",
    "  f.close()"
   ]
  }
 ],
 "metadata": {
  "kernelspec": {
   "display_name": "Python 3",
   "language": "python",
   "name": "python3"
  },
  "language_info": {
   "codemirror_mode": {
    "name": "ipython",
    "version": 3
   },
   "file_extension": ".py",
   "mimetype": "text/x-python",
   "name": "python",
   "nbconvert_exporter": "python",
   "pygments_lexer": "ipython3",
   "version": "3.7.5"
  }
 },
 "nbformat": 4,
 "nbformat_minor": 2
}
